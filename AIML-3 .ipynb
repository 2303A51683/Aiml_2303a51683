{
  "nbformat": 4,
  "nbformat_minor": 0,
  "metadata": {
    "colab": {
      "provenance": [],
      "authorship_tag": "ABX9TyM5yw5nyJQTldJaaGniwSPt",
      "include_colab_link": true
    },
    "kernelspec": {
      "name": "python3",
      "display_name": "Python 3"
    },
    "language_info": {
      "name": "python"
    }
  },
  "cells": [
    {
      "cell_type": "markdown",
      "metadata": {
        "id": "view-in-github",
        "colab_type": "text"
      },
      "source": [
        "<a href=\"https://colab.research.google.com/github/2303A51683/Aiml_2303a51683/blob/main/AIML-3%20.ipynb\" target=\"_parent\"><img src=\"https://colab.research.google.com/assets/colab-badge.svg\" alt=\"Open In Colab\"/></a>"
      ]
    },
    {
      "cell_type": "code",
      "execution_count": 1,
      "metadata": {
        "colab": {
          "base_uri": "https://localhost:8080/"
        },
        "id": "p9sSaJlX1fD9",
        "outputId": "fe18fd6c-04fb-4c63-808b-58a20404de2a"
      },
      "outputs": [
        {
          "output_type": "stream",
          "name": "stdout",
          "text": [
            "Requirement already satisfied: numpy in /usr/local/lib/python3.10/dist-packages (1.26.4)\n"
          ]
        }
      ],
      "source": [
        "pip install numpy"
      ]
    },
    {
      "cell_type": "code",
      "source": [
        "import random\n",
        "import math\n",
        "import functools\n",
        "from collections import deque\n",
        "\n",
        "# Cache decorator from functools\n",
        "@functools.lru_cache(maxsize=10**6)\n",
        "def cached_function(x):\n",
        "    return x * x  # Example of a function that can be cached\n",
        "\n",
        "# Abstract Game Class\n",
        "class Game:\n",
        "    def __init__(self):\n",
        "        self.initial = None  # Define initial state in subclass\n",
        "\n",
        "    def actions(self, state):\n",
        "        \"\"\"Return a collection of the allowable moves from this state.\"\"\"\n",
        "        raise NotImplementedError\n",
        "\n",
        "    def result(self, state, move):\n",
        "        \"\"\"Return the state that results from making a move from a state.\"\"\"\n",
        "        raise NotImplementedError\n",
        "\n",
        "    def is_terminal(self, state):\n",
        "        \"\"\"Return True if this is a final state for the game.\"\"\"\n",
        "        return not self.actions(state)\n",
        "\n",
        "    def utility(self, state, player):\n",
        "        \"\"\"Return the value of this final state to the player.\"\"\"\n",
        "        raise NotImplementedError\n",
        "\n",
        "# Example Tic-Tac-Toe Game Subclass\n",
        "class TicTacToe(Game):\n",
        "    def __init__(self):\n",
        "        # Initialize an empty board (3x3 grid)\n",
        "        super().__init__()\n",
        "        self.initial = [[' ' for _ in range(3)] for _ in range(3)]\n",
        "\n",
        "    def actions(self, state):\n",
        "        \"\"\"Return available moves (empty cells) in the grid.\"\"\"\n",
        "        return [(r, c) for r in range(3) for c in range(3) if state[r][c] == ' ']\n",
        "\n",
        "    def result(self, state, move):\n",
        "        \"\"\"Return the resulting state after a move.\"\"\"\n",
        "        new_state = [row[:] for row in state]  # Deep copy of the board\n",
        "        player = self.current_player(state)\n",
        "        new_state[move[0]][move[1]] = player\n",
        "        return new_state\n",
        "\n",
        "    def is_terminal(self, state):\n",
        "        \"\"\"Check if the game has ended (win or draw).\"\"\"\n",
        "        return self.check_win(state) or len(self.actions(state)) == 0\n",
        "\n",
        "    def utility(self, state, player):\n",
        "        \"\"\"Return 1 if player wins, -1 if player loses, 0 if draw.\"\"\"\n",
        "        winner = self.check_win(state)\n",
        "        if winner == player:\n",
        "            return 1\n",
        "        elif winner is not None:\n",
        "            return -1\n",
        "        else:\n",
        "            return 0\n",
        "\n",
        "    def check_win(self, state):\n",
        "        \"\"\"Check if there's a winner on the board.\"\"\"\n",
        "        lines = [state[0], state[1], state[2],  # Rows\n",
        "                 [state[0][0], state[1][0], state[2][0]],  # Columns\n",
        "                 [state[0][1], state[1][1], state[2][1]],\n",
        "                 [state[0][2], state[1][2], state[2][2]],\n",
        "                 [state[0][0], state[1][1], state[2][2]],  # Diagonals\n",
        "                 [state[0][2], state[1][1], state[2][0]]]\n",
        "        for line in lines:\n",
        "            if line[0] != ' ' and line[0] == line[1] == line[2]:\n",
        "                return line[0]  # Return the winner ('X' or 'O')\n",
        "        return None\n",
        "\n",
        "    def current_player(self, state):\n",
        "        \"\"\"Determine whose turn it is ('X' or 'O').\"\"\"\n",
        "        num_X = sum(row.count('X') for row in state)\n",
        "        num_O = sum(row.count('O') for row in state)\n",
        "        return 'X' if num_X == num_O else 'O'\n",
        "\n",
        "\n",
        "### Player Game\n",
        "\n",
        "def play_game(game, strategies: dict, verbose=False):\n",
        "    \"\"\"Play a turn-taking game where strategies are passed for both players.\"\"\"\n",
        "    state = game.initial\n",
        "    while not game.is_terminal(state):\n",
        "        player = game.current_player(state)\n",
        "        move = strategies[player](state, game)  # Get the player's move using their strategy\n",
        "        state = game.result(state, move)\n",
        "        if verbose:\n",
        "            print(f\"Player {player} made a move: {move}\")\n",
        "            print_board(state)\n",
        "    return state\n",
        "\n",
        "# Strategy Example: Random Move\n",
        "def random_strategy(state, game):\n",
        "    \"\"\"A simple strategy where the player picks a random move.\"\"\"\n",
        "    return random.choice(game.actions(state))\n",
        "\n",
        "# Print Tic-Tac-Toe board\n",
        "def print_board(state):\n",
        "    \"\"\"Helper function to print the Tic-Tac-Toe board.\"\"\"\n",
        "    for row in state:\n",
        "        print(' | '.join(row))\n",
        "        print('-' * 5)\n",
        "\n",
        "# Running the game\n",
        "game = TicTacToe()\n",
        "strategies = {'X': random_strategy, 'O': random_strategy}\n",
        "\n",
        "# Play the game and display output\n",
        "final_state = play_game(game, strategies, verbose=True)"
      ],
      "metadata": {
        "colab": {
          "base_uri": "https://localhost:8080/"
        },
        "id": "UH7VVn0Y1wBQ",
        "outputId": "9ccfc3e5-0a52-4a36-bac6-0242567488af"
      },
      "execution_count": 2,
      "outputs": [
        {
          "output_type": "stream",
          "name": "stdout",
          "text": [
            "Player X made a move: (0, 2)\n",
            "  |   | X\n",
            "-----\n",
            "  |   |  \n",
            "-----\n",
            "  |   |  \n",
            "-----\n",
            "Player O made a move: (0, 0)\n",
            "O |   | X\n",
            "-----\n",
            "  |   |  \n",
            "-----\n",
            "  |   |  \n",
            "-----\n",
            "Player X made a move: (2, 1)\n",
            "O |   | X\n",
            "-----\n",
            "  |   |  \n",
            "-----\n",
            "  | X |  \n",
            "-----\n",
            "Player O made a move: (1, 2)\n",
            "O |   | X\n",
            "-----\n",
            "  |   | O\n",
            "-----\n",
            "  | X |  \n",
            "-----\n",
            "Player X made a move: (2, 2)\n",
            "O |   | X\n",
            "-----\n",
            "  |   | O\n",
            "-----\n",
            "  | X | X\n",
            "-----\n",
            "Player O made a move: (1, 1)\n",
            "O |   | X\n",
            "-----\n",
            "  | O | O\n",
            "-----\n",
            "  | X | X\n",
            "-----\n",
            "Player X made a move: (2, 0)\n",
            "O |   | X\n",
            "-----\n",
            "  | O | O\n",
            "-----\n",
            "X | X | X\n",
            "-----\n"
          ]
        }
      ]
    },
    {
      "cell_type": "code",
      "source": [
        "from collections import deque\n",
        "\n",
        "def bfs(graph, start_vertex):\n",
        "    # Initialize a queue with the starting vertex\n",
        "    queue = deque([start_vertex])\n",
        "    # Track visited vertices\n",
        "    visited = set([start_vertex])\n",
        "\n",
        "    while queue:\n",
        "        # Pop a vertex from the front of the queue\n",
        "        current_vertex = queue.popleft()\n",
        "        print(current_vertex, end=' ')\n",
        "\n",
        "        # Explore the neighbors of the current vertex\n",
        "        for neighbor in graph[current_vertex]:\n",
        "            if neighbor not in visited:\n",
        "                # Mark the neighbor as visited and enqueue it\n",
        "                visited.add(neighbor)\n",
        "                queue.append(neighbor)\n",
        "\n",
        "# Example graph represented as an adjacency list\n",
        "graph = {\n",
        "    0: [1, 2, 3],\n",
        "    1: [0, 4],\n",
        "    2: [0, 5],\n",
        "    3: [0],\n",
        "    4: [1],\n",
        "    5: [2]\n",
        "}\n",
        "\n",
        "# Run BFS starting from vertex 0\n",
        "bfs(graph, 0)"
      ],
      "metadata": {
        "colab": {
          "base_uri": "https://localhost:8080/"
        },
        "id": "ZXo-qJp-14Tu",
        "outputId": "fed91fde-559f-4594-81fa-2ed448b697e3"
      },
      "execution_count": 3,
      "outputs": [
        {
          "output_type": "stream",
          "name": "stdout",
          "text": [
            "0 1 2 3 4 5 "
          ]
        }
      ]
    }
  ]
}